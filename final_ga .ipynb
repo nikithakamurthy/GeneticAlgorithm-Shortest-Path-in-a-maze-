{
 "cells": [
  {
   "cell_type": "code",
   "execution_count": 16,
   "metadata": {},
   "outputs": [],
   "source": [
    "import numpy as np,random,operator,pandas as pd,matplotlib.pyplot as plt,math, heapq, sys, time"
   ]
  },
  {
   "cell_type": "code",
   "execution_count": null,
   "metadata": {},
   "outputs": [],
   "source": []
  },
  {
   "cell_type": "code",
   "execution_count": 17,
   "metadata": {},
   "outputs": [],
   "source": [
    "class Graph:\n",
    "    def __init__(self,cities,dist_mat=[]):\n",
    "        self.cities=cities\n",
    "        self.dist_mat=[[math.inf for i in range(cities)] for j in range(cities)]\n",
    "        for i in range(cities):\n",
    "            for j in range(cities):\n",
    "                \n",
    "                if (self.dist_mat[i][j]==math.inf):\n",
    "                    \n",
    "                    if i!=j:\n",
    "                        x=(random.random()*100)//1\n",
    "                        if x<25:\n",
    "                            x=math.inf\n",
    "                        self.dist_mat[i][j]=x\n",
    "                        self.dist_mat[j][i]=x\n",
    "                    else:\n",
    "                        self.dist_mat[i][j]=0"
   ]
  },
  {
   "cell_type": "code",
   "execution_count": null,
   "metadata": {},
   "outputs": [],
   "source": []
  },
  {
   "cell_type": "code",
   "execution_count": 18,
   "metadata": {},
   "outputs": [],
   "source": [
    "class Fitness:\n",
    "    def __init__(self,route):\n",
    "        self.route=route\n",
    "        self.distance=0\n",
    "        self.fitness=0\n",
    "    def routeDistance(self,source,destination,dist_mat):\n",
    "        if self.distance==0:\n",
    "            pathDistance=0\n",
    "            for i in range(0,len(self.route)):\n",
    "                fromCity=self.route[i]\n",
    "                toCity=None\n",
    "                if fromCity==None:\n",
    "                    continue\n",
    "                if i+1<len(self.route):\n",
    "                    toCity=self.route[i+1]\n",
    "                if toCity!=None:\n",
    "                    pathDistance+=dist_mat[fromCity][toCity]\n",
    "            self.distance=pathDistance\n",
    "            \n",
    "            self.distance=self.distance+dist_mat[source][self.route[0]]+dist_mat[destination][self.route[len(self.route)-1]]\n",
    "        return self.distance\n",
    "    def routeFitness(self,source,destination,dist_mat):\n",
    "        if self.fitness==0:\n",
    "            self.fitness=1/float(self.routeDistance(source,destination,dist_mat))\n",
    "            \n",
    "        return self.fitness"
   ]
  },
  {
   "cell_type": "code",
   "execution_count": 19,
   "metadata": {},
   "outputs": [],
   "source": [
    "def initialPopulation(popSize,cityList,size=None):\n",
    "    population=[]\n",
    "    if size==None:\n",
    "        size=len(cityList)\n",
    "    \n",
    "    for i in range(popSize-1):\n",
    "        population.append(createRoute(cityList,size))\n",
    "    \n",
    "    return population"
   ]
  },
  {
   "cell_type": "code",
   "execution_count": 20,
   "metadata": {},
   "outputs": [],
   "source": [
    "def createRoute(cityList,size):\n",
    "   \n",
    "    route=random.sample(cityList,size)\n",
    "    \n",
    "    return route\n",
    "\n",
    "#createRoute([i for i in range(25)])"
   ]
  },
  {
   "cell_type": "code",
   "execution_count": 21,
   "metadata": {
    "scrolled": true
   },
   "outputs": [],
   "source": [
    "def rankRoutes(population,source,destination,dist_mat):\n",
    "    fitnessResults={}\n",
    "    for i in range(len(population)):\n",
    "        fitnessResults[i]=Fitness(population[i]).routeFitness(source,destination,dist_mat)\n",
    "    \n",
    "    return sorted(fitnessResults.items(),key=operator.itemgetter(1),reverse=True)\n"
   ]
  },
  {
   "cell_type": "code",
   "execution_count": 22,
   "metadata": {},
   "outputs": [],
   "source": [
    "\n",
    "def nextGeneration(currentGen, eliteSize, mutationRate,source,destination,dist_mat):\n",
    "    popRanked = rankRoutes(currentGen,source,destination,dist_mat)\n",
    "    selectionResults = selection(popRanked, eliteSize)\n",
    "    matingpool = matingPool(currentGen, selectionResults)\n",
    "    children = breedPopulation(matingpool, eliteSize)\n",
    "    nextGeneration = mutatePopulation(children, mutationRate)\n",
    "    return nextGeneration"
   ]
  },
  {
   "cell_type": "code",
   "execution_count": 23,
   "metadata": {},
   "outputs": [],
   "source": [
    "def selection(popRanked,eliteSize):\n",
    "    selectionResults=[]\n",
    "    df=pd.DataFrame(np.array(popRanked),columns=[\"Index\",\"Fitness\"])\n",
    "    df['cum_sum']=df.Fitness.cumsum()\n",
    "    df['cum_perc']=100*df.cum_sum/df.Fitness.sum()\n",
    "    for i in range(eliteSize):\n",
    "        selectionResults.append(popRanked[i][0])\n",
    "    for i in range(0,len(popRanked)-eliteSize):\n",
    "        pick=100*random.random()\n",
    "        for i in range(len(popRanked)):\n",
    "            if pick<=df.iat[i,3]:\n",
    "                selectionResults.append(popRanked[i][0])\n",
    "                break\n",
    "    return selectionResults"
   ]
  },
  {
   "cell_type": "code",
   "execution_count": 24,
   "metadata": {},
   "outputs": [],
   "source": [
    "def matingPool(population, selectionResults):\n",
    "    matingpool = []\n",
    "    for i in range(0, len(selectionResults)):\n",
    "        index = selectionResults[i]\n",
    "        matingpool.append(population[index])\n",
    "    return matingpool"
   ]
  },
  {
   "cell_type": "code",
   "execution_count": 25,
   "metadata": {},
   "outputs": [],
   "source": [
    "\n",
    "def breed(parent1, parent2):\n",
    "    child = []\n",
    "    childP1 = []\n",
    "    childP2 = []\n",
    "    \n",
    "    geneA = int(random.random() * len(parent1))\n",
    "    geneB = int(random.random() * len(parent1))\n",
    "    \n",
    "    startGene = min(geneA, geneB)\n",
    "    endGene = max(geneA, geneB)\n",
    "\n",
    "    for i in range(startGene, endGene):\n",
    "        childP1.append(parent1[i])\n",
    "        \n",
    "    childP2 = [item for item in parent2 if item not in childP1]\n",
    "\n",
    "    child = childP1 + childP2\n",
    "    return child"
   ]
  },
  {
   "cell_type": "code",
   "execution_count": 26,
   "metadata": {},
   "outputs": [],
   "source": [
    "def mutate(individual, mutationRate):\n",
    "    for swapped in range(len(individual)):\n",
    "        if(random.random() < mutationRate):\n",
    "            swapWith = int(random.random() * len(individual))\n",
    "            \n",
    "            city1 = individual[swapped]\n",
    "            city2 = individual[swapWith]\n",
    "            \n",
    "            individual[swapped] = city2\n",
    "            individual[swapWith] = city1\n",
    "    return individual"
   ]
  },
  {
   "cell_type": "code",
   "execution_count": 27,
   "metadata": {},
   "outputs": [],
   "source": [
    "\n",
    "def mutatePopulation(population, mutationRate):\n",
    "    mutatedPop = []\n",
    "    \n",
    "    for ind in range(0, len(population)):\n",
    "        mutatedInd = mutate(population[ind], mutationRate)\n",
    "        mutatedPop.append(mutatedInd)\n",
    "    return mutatedPop"
   ]
  },
  {
   "cell_type": "code",
   "execution_count": 28,
   "metadata": {},
   "outputs": [],
   "source": [
    "def breedPopulation(matingpool, eliteSize):\n",
    "    children = []\n",
    "    length = len(matingpool) - eliteSize\n",
    "    pool = random.sample(matingpool, len(matingpool))\n",
    "\n",
    "    for i in range(0,eliteSize):\n",
    "        children.append(matingpool[i])\n",
    "    \n",
    "    for i in range(0, length):\n",
    "        child = breed(pool[i], pool[len(matingpool)-i-1])\n",
    "        children.append(child)\n",
    "    return children"
   ]
  },
  {
   "cell_type": "code",
   "execution_count": null,
   "metadata": {},
   "outputs": [],
   "source": []
  },
  {
   "cell_type": "code",
   "execution_count": null,
   "metadata": {},
   "outputs": [],
   "source": []
  },
  {
   "cell_type": "code",
   "execution_count": 29,
   "metadata": {},
   "outputs": [],
   "source": [
    "def geneticAlgorithm(g,population, popSize, eliteSize, mutationRate, generations,source,destination,size=None):\n",
    "    \n",
    "    #g=Graph(len(population))\n",
    "    #print(population)\n",
    "    #print(source,destination)\n",
    "  \n",
    "    #population.remove(destination)\n",
    "    \n",
    "    \n",
    "    \n",
    "    pop = initialPopulation(popSize, population,size)\n",
    "    progress = []\n",
    "    progress.append(1 / rankRoutes(pop,source,destination,g.dist_mat)[0][1])\n",
    "    \n",
    "    x=rankRoutes(pop,source,destination,g.dist_mat)\n",
    "    #print(x)\n",
    "    minDist=1/x[0][1]\n",
    "    minDistRouteIndex=x[0][0]\n",
    "    minDistRoute=pop[minDistRouteIndex]\n",
    "    print(\"Initial distance:\",1/x[0][1] )\n",
    "    \n",
    "    \n",
    "    #print(\"Initial distance: \" + str(1/x[0][1])\n",
    "          \n",
    "    \n",
    "    \n",
    "    for i in range(0, generations):\n",
    "        \n",
    "          \n",
    "        pop = nextGeneration(pop, eliteSize, mutationRate,source,destination,g.dist_mat)\n",
    "        \n",
    "        \n",
    "        x=rankRoutes(pop,source,destination,g.dist_mat)\n",
    "        progress.append(1 / x[0][1])\n",
    "        if 1/x[0][1]<minDist:\n",
    "            \n",
    "\n",
    "            minDist=1/x[0][1]\n",
    "            minDistRouteIndex=x[0][0]\n",
    "            minDistRoute=pop[minDistRouteIndex]\n",
    "    print(\"Final distance: \" + str(1 / rankRoutes(pop,source,destination,g.dist_mat)[0][1]))\n",
    "\n",
    "    finalRouteIndex = rankRoutes(pop,source,destination,g.dist_mat)[0][0]\n",
    "    finalRoute = pop[finalRouteIndex]\n",
    "    myShortRoute=[]\n",
    "    for i in minDistRoute:\n",
    "          if i not in myShortRoute:\n",
    "                myShortRoute.append(i)\n",
    "    print(minDist,': route =',minDistRoute)\n",
    "    \n",
    "    plt.plot(progress)\n",
    "    plt.ylabel('Distance')\n",
    "    plt.xlabel('Generation')\n",
    "    plt.show()\n",
    "    \n",
    "    return minDistRoute,minDist    "
   ]
  },
  {
   "cell_type": "code",
   "execution_count": null,
   "metadata": {},
   "outputs": [],
   "source": []
  },
  {
   "cell_type": "code",
   "execution_count": 38,
   "metadata": {
    "scrolled": true
   },
   "outputs": [
    {
     "name": "stdout",
     "output_type": "stream",
     "text": [
      "Initial distance: 1325.0\n",
      "Final distance: 916.0\n",
      "916.0 : route = [5, 14, 17, 1, 10, 20, 18, 0, 15, 16, 22, 8, 11, 23, 19, 2, 13, 7, 24, 6, 9, 12, 21, 4]\n"
     ]
    },
    {
     "data": {
      "image/png": "[encoded data removed]",
      "text/plain": [
       "<Figure size 432x288 with 1 Axes>"
      ]
     },
     "metadata": {
      "needs_background": "light"
     },
     "output_type": "display_data"
    },
    {
     "name": "stdout",
     "output_type": "stream",
     "text": [
      "[5, 14, 17, 1, 10, 20, 18, 0, 15, 16, 22, 8, 11, 23, 19, 2, 13, 7, 24, 6, 9, 12, 21, 4]\n",
      "Initial distance: 503.00000000000006\n",
      "Final distance: 348.0\n",
      "348.0 : route = [23, 13, 2, 19, 4, 1, 17, 11, 5, 0]\n"
     ]
    },
    {
     "data": {
      "image/png": "[encoded data removed]",
      "text/plain": [
       "<Figure size 432x288 with 1 Axes>"
      ]
     },
     "metadata": {
      "needs_background": "light"
     },
     "output_type": "display_data"
    },
    {
     "name": "stdout",
     "output_type": "stream",
     "text": [
      "[23, 13, 2, 19, 4, 1, 17, 11, 5, 0]\n",
      "Initial distance: 450.0\n",
      "Final distance: 353.0\n",
      "353.0 : route = [23, 16, 17, 1, 19, 18, 6, 21, 9]\n"
     ]
    },
    {
     "data": {
      "image/png": "[encoded data removed]",
      "text/plain": [
       "<Figure size 432x288 with 1 Axes>"
      ]
     },
     "metadata": {
      "needs_background": "light"
     },
     "output_type": "display_data"
    },
    {
     "name": "stdout",
     "output_type": "stream",
     "text": [
      "[23, 16, 17, 1, 19, 18, 6, 21, 9]\n",
      "Initial distance: 395.0\n",
      "Final distance: 332.0\n",
      "332.0 : route = [23, 21, 24, 22, 9, 6, 19, 18]\n"
     ]
    },
    {
     "data": {
      "image/png": "[encoded data removed]",
      "text/plain": [
       "<Figure size 432x288 with 1 Axes>"
      ]
     },
     "metadata": {
      "needs_background": "light"
     },
     "output_type": "display_data"
    },
    {
     "name": "stdout",
     "output_type": "stream",
     "text": [
      "[23, 21, 24, 22, 9, 6, 19, 18]\n",
      "Initial distance: 355.0\n",
      "Final distance: 323.0\n",
      "323.0 : route = [23, 11, 24, 5, 7, 8, 22, 15]\n"
     ]
    },
    {
     "data": {
      "image/png": "[encoded data removed]",
      "text/plain": [
       "<Figure size 432x288 with 1 Axes>"
      ]
     },
     "metadata": {
      "needs_background": "light"
     },
     "output_type": "display_data"
    },
    {
     "name": "stdout",
     "output_type": "stream",
     "text": [
      "[23, 11, 24, 5, 7, 8, 22, 15]\n",
      "Initial distance: 307.0\n",
      "Final distance: 302.0\n",
      "302.0 : route = [10, 8, 5, 22, 9, 13, 0]\n"
     ]
    },
    {
     "data": {
      "image/png": "[encoded data removed]",
      "text/plain": [
       "<Figure size 432x288 with 1 Axes>"
      ]
     },
     "metadata": {
      "needs_background": "light"
     },
     "output_type": "display_data"
    },
    {
     "name": "stdout",
     "output_type": "stream",
     "text": [
      "[10, 8, 5, 22, 9, 13, 0]\n",
      "Initial distance: 351.0\n",
      "Final distance: 283.0\n",
      "283.0 : route = [19, 9, 6, 24, 10, 23, 4]\n"
     ]
    },
    {
     "data": {
      "image/png": "[encoded data removed]",
      "text/plain": [
       "<Figure size 432x288 with 1 Axes>"
      ]
     },
     "metadata": {
      "needs_background": "light"
     },
     "output_type": "display_data"
    },
    {
     "name": "stdout",
     "output_type": "stream",
     "text": [
      "[19, 9, 6, 24, 10, 23, 4]\n",
      "Initial distance: 61.0\n",
      "Final distance: 61.0\n",
      "61.0 : route = [9]\n"
     ]
    },
    {
     "data": {
      "image/png": "[encoded data removed]",
      "text/plain": [
       "<Figure size 432x288 with 1 Axes>"
      ]
     },
     "metadata": {
      "needs_background": "light"
     },
     "output_type": "display_data"
    },
    {
     "name": "stdout",
     "output_type": "stream",
     "text": [
      "[9]\n",
      "Initial distance: 61.0\n",
      "Final distance: 61.0\n",
      "61.0 : route = [9]\n"
     ]
    },
    {
     "data": {
      "image/png": "[encoded data removed]",
      "text/plain": [
       "<Figure size 432x288 with 1 Axes>"
      ]
     },
     "metadata": {
      "needs_background": "light"
     },
     "output_type": "display_data"
    },
    {
     "name": "stdout",
     "output_type": "stream",
     "text": [
      "[9]\n",
      "Initial distance: 61.0\n",
      "Final distance: 61.0\n",
      "61.0 : route = [9]\n"
     ]
    },
    {
     "data": {
      "image/png": "[encoded data removed]",
      "text/plain": [
       "<Figure size 432x288 with 1 Axes>"
      ]
     },
     "metadata": {
      "needs_background": "light"
     },
     "output_type": "display_data"
    },
    {
     "name": "stdout",
     "output_type": "stream",
     "text": [
      "[9]\n",
      "Initial distance: 61.0\n",
      "Final distance: 61.0\n",
      "61.0 : route = [9]\n"
     ]
    },
    {
     "data": {
      "image/png": "[encoded data removed]",
      "text/plain": [
       "<Figure size 432x288 with 1 Axes>"
      ]
     },
     "metadata": {
      "needs_background": "light"
     },
     "output_type": "display_data"
    },
    {
     "name": "stdout",
     "output_type": "stream",
     "text": [
      "bestroute found = [9] : dist= 61.0\n"
     ]
    }
   ],
   "source": [
    "k=25\n",
    "source=23\n",
    "destination=3\n",
    "population=[i for i in range(k)]\n",
    "g=Graph(len(population))\n",
    "population.remove(destination)\n",
    "\n",
    "try:\n",
    "    route,mindist=geneticAlgorithm(g,population, popSize=100, eliteSize=20, mutationRate=0.01, generations=100,source=source,destination=destination,size=k-1)\n",
    "except ZeroDivisionError:\n",
    "    route,mindist=geneticAlgorithm(g,population, popSize=100, eliteSize=20, mutationRate=0.01, generations=100,source=source,destination=destination,size=k-1)\n",
    "    \n",
    "    \n",
    "tillnow=route\n",
    "tilldist=mindist\n",
    "for j in range(10):\n",
    "    print(route)\n",
    "    for i in range(len(route)-1,-1,-1):\n",
    "        \n",
    "        if route[i]==source:\n",
    "            newsize=len(route)-i-1\n",
    "        \n",
    "            break\n",
    "    if newsize==0:\n",
    "        break\n",
    "    try:\n",
    "       \n",
    "        route,mindist=geneticAlgorithm(g,population, popSize=100, eliteSize=20, mutationRate=0.01, generations=100,source=source,destination=destination,size=newsize)\n",
    "        if mindist<tilldist:\n",
    "            \n",
    "            tillnow=route\n",
    "            tilldist=mindist\n",
    "            #print(tillnow,tilldist)\n",
    "    except ZeroDivisionError:\n",
    "        continue\n",
    "\n",
    "print('bestroute found =',tillnow,': dist=',tilldist)"
   ]
  },
  {
   "cell_type": "code",
   "execution_count": 39,
   "metadata": {},
   "outputs": [
    {
     "name": "stdout",
     "output_type": "stream",
     "text": [
      "73.0\n"
     ]
    }
   ],
   "source": [
    "print(g.dist_mat[3][23])        "
   ]
  },
  {
   "cell_type": "code",
   "execution_count": 33,
   "metadata": {},
   "outputs": [],
   "source": [
    "class PriorityQueue:\n",
    "    def __init__(self):\n",
    "        self.elements = []\n",
    "    \n",
    "    def empty(self):\n",
    "        return len(self.elements) == 0\n",
    "    \n",
    "    def put(self, item, priority):\n",
    "        heapq.heappush(self.elements, (priority, item))\n",
    "    \n",
    "    def get(self):\n",
    "        return (heapq.heappop(self.elements)[1])\n",
    "def neighb(graph, current):\n",
    "    lis=[]\n",
    "    for i in range(len(graph)):\n",
    "        if graph[current][i]!=0 and graph[current][i]!=math.inf:\n",
    "            lis.append(i)\n",
    "        if graph[i][current]!=0 and graph[current][i]!=math.inf:\n",
    "            lis.append(i)\n",
    "    return np.unique(lis)\n",
    "    \n",
    "\n",
    "def astar(graph, start, goal):\n",
    "    startTime = time.time()\n",
    "    frontier = PriorityQueue()\n",
    "    frontier.put(start, 0)\n",
    "    came_from = {}\n",
    "    cost_so_far = {}\n",
    "    came_from[start] = None\n",
    "    cost_so_far[start] = 0\n",
    "    s_path={start:0}\n",
    "    while not frontier.empty():\n",
    "        current = frontier.get()        \n",
    "        if current == goal:\n",
    "            #print(goal)\n",
    "            break\n",
    "        dic={}\n",
    "        minimum=0\n",
    "        for next in neighb(graph, current):\n",
    "            \n",
    "            new_cost = cost_so_far[current] + graph[current][next]\n",
    "            if next not in cost_so_far or new_cost < cost_so_far[next]:\n",
    "                cost_so_far[next] = new_cost\n",
    "                priority = new_cost + graph[goal][next]#change to heuristic\n",
    "                frontier.put(next, priority)\n",
    "                \n",
    "                dic.update({next:priority})\n",
    "                came_from[next] = current\n",
    "            sorted_list=sorted(dic.items(), key=operator.itemgetter(1))\n",
    "            res_list = [i[0] for i in sorted_list]\n",
    "            if res_list!=[]:\n",
    "                minimum=res_list[0]\n",
    "        s_path.update({minimum:dic[minimum]})\n",
    "    print(\"A star algorithm\")\n",
    "    print(\"The shortest path\", s_path)\n",
    "    print(\"The cost of the path:\",cost_so_far[goal])\n",
    "    endTime = time.time()\n",
    "    print('Time taken', endTime - startTime)"
   ]
  },
  {
   "cell_type": "code",
   "execution_count": 40,
   "metadata": {},
   "outputs": [
    {
     "name": "stdout",
     "output_type": "stream",
     "text": [
      "A star algorithm\n",
      "The shortest path {23: 0, 9: 61.0, 3: 61.0}\n",
      "The cost of the path: 61.0\n",
      "Time taken 0.0010304450988769531\n",
      "\n",
      "Dijkstra (Backtracking) approach\n",
      "Shortest path [23, 9, 3]\n",
      "Time taken 0.0004589557647705078\n"
     ]
    }
   ],
   "source": [
    "def minDistance(dist, sptSet): \n",
    "        min = sys.maxsize \n",
    "        # Search not nearest vertex not in the  \n",
    "        # shortest path tree \n",
    "        for v in range(g.cities): \n",
    "            if dist[v] < min and sptSet[v] == False: \n",
    "                min = dist[v] \n",
    "                min_index = v  \n",
    "        return min_index \n",
    "    \n",
    "def dijkstra(g, src, dest):\n",
    "    startTime = time.time()\n",
    "    dist = [sys.maxsize] * g.cities\n",
    "    dist[src] = 0\n",
    "    sptSet = [False] * g.cities\n",
    "    parent={src:None}\n",
    "    for cout in range(g.cities): \n",
    "        u = minDistance(dist, sptSet)\n",
    "        sptSet[u] = True\n",
    "        for v in range(g.cities): \n",
    "            if g.dist_mat[u][v] > 0 and sptSet[v] == False and dist[v] > dist[u] + g.dist_mat[u][v]: \n",
    "                    dist[v] = dist[u] + g.dist_mat[u][v]\n",
    "                    parent[v] = (u,dist[v])\n",
    "    print('Dijkstra (Backtracking) approach')\n",
    "    output = [dest]\n",
    "    curr = parent[dest]\n",
    "    while curr is not None:\n",
    "        output.insert(0,curr[0])\n",
    "        curr = parent[curr[0]]\n",
    "    print('Shortest path', output)        \n",
    "    endTime = time.time()\n",
    "    print('Time taken', endTime - startTime)\n",
    "\n",
    "\n",
    "\n",
    "graph=g.dist_mat\n",
    "astar(graph,source, destination)\n",
    "print()\n",
    "dijkstra(g, source, destination)"
   ]
  },
  {
   "cell_type": "code",
   "execution_count": null,
   "metadata": {},
   "outputs": [],
   "source": []
  },
  {
   "cell_type": "code",
   "execution_count": null,
   "metadata": {},
   "outputs": [],
   "source": []
  },
  {
   "cell_type": "code",
   "execution_count": null,
   "metadata": {},
   "outputs": [],
   "source": []
  }
 ],
 "metadata": {
  "kernelspec": {
   "display_name": "Python 3",
   "language": "python",
   "name": "python3"
  },
  "language_info": {
   "codemirror_mode": {
    "name": "ipython",
    "version": 3
   },
   "file_extension": ".py",
   "mimetype": "text/x-python",
   "name": "python",
   "nbconvert_exporter": "python",
   "pygments_lexer": "ipython3",
   "version": "3.6.7"
  }
 },
 "nbformat": 4,
 "nbformat_minor": 2
}
